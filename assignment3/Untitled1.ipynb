{
 "cells": [
  {
   "cell_type": "code",
   "execution_count": 1,
   "metadata": {},
   "outputs": [],
   "source": [
    "import numpy as np\n",
    "import matplotlib.pyplot as plt\n",
    "\n",
    "def lml(alpha,beta,Phi,Y):\n",
    "\n",
    "\n",
    "    N = len(Y)\n",
    "    S = np.dot(np.dot(Phi,alpha*np.identity(len(Phi[0]))),np.transpose(Phi))+beta*np.identity(len(np.dot(Phi,np.transpose(Phi))))\n",
    "    n1 = -N*0.5*np.log(2*np.pi)\n",
    "    sign,l = np.linalg.slogdet(S)\n",
    "    n2 = -0.5*(sign*l)\n",
    "    n3 = -0.5*np.dot(np.dot(np.transpose(Y),np.linalg.inv(S)),Y)\n",
    "    return (n1+n2+n3)[0][0]\n",
    "a = 3.0\n",
    "b = 4.0\n",
    "p = np.array([[3,2,6,7],[2,3,6,6],[7,3,3,4]])\n",
    "y = np.array([[2],[5],[6]])\n",
    "\n",
    "#lml(a,b,p,y)\n",
    "#lml1(a,b,p,y)\n",
    "\n",
    "def grad_lml(alpha,beta,Phi,Y):\n",
    "    S = np.dot(np.dot(Phi, alpha * np.identity(len(Phi[0]))), np.transpose(Phi)) + beta * np.identity(\n",
    "        len(np.dot(Phi, np.transpose(Phi))))\n",
    "    P = np.dot(Phi,np.transpose(Phi))\n",
    "\n",
    "    a1 = np.dot(np.dot(-np.linalg.inv(S),P),np.linalg.inv(S))\n",
    "    a2 = -0.5*np.dot(np.dot(np.transpose(Y),a1),Y)\n",
    "    d_lml_d_alpha = -0.5*np.trace(np.dot(np.linalg.inv(S),P))+a2\n",
    "\n",
    "    b1 = np.dot(-np.linalg.inv(S),np.linalg.inv(S))\n",
    "    b2 = -0.5*np.dot(np.dot(np.transpose(Y),b1),Y)\n",
    "    d_lml_d_beta = -0.5*np.trace(np.linalg.inv(S))+b2\n",
    "    output = np.array([[d_lml_d_alpha[0][0]],[d_lml_d_beta[0][0]]])\n",
    "    return output\n",
    "\n",
    "\n",
    "\n",
    "\n"
   ]
  },
  {
   "cell_type": "code",
   "execution_count": 2,
   "metadata": {},
   "outputs": [],
   "source": [
    "#==========================================================1b)\n",
    "N = 25\n",
    "x = np.reshape(np.linspace(0,0.9,N),(N,1))\n",
    "y = np.cos(10*x**2) + 0.1*np.sin(100*x)\n"
   ]
  },
  {
   "cell_type": "code",
   "execution_count": 4,
   "metadata": {},
   "outputs": [
    {
     "name": "stdout",
     "output_type": "stream",
     "text": [
      "50001\n",
      "55001\n",
      "60001\n",
      "65001\n",
      "70001\n",
      "75001\n",
      "80001\n",
      "85001\n",
      "90001\n",
      "95001\n",
      "100001\n",
      "105001\n"
     ]
    },
    {
     "ename": "TypeError",
     "evalue": "object of type 'int' has no len()",
     "output_type": "error",
     "traceback": [
      "\u001b[0;31m---------------------------------------------------------------------------\u001b[0m",
      "\u001b[0;31mTypeError\u001b[0m                                 Traceback (most recent call last)",
      "\u001b[0;32m<ipython-input-4-6b177bc99f6a>\u001b[0m in \u001b[0;36m<module>\u001b[0;34m()\u001b[0m\n\u001b[1;32m     38\u001b[0m \u001b[0;34m\u001b[0m\u001b[0m\n\u001b[1;32m     39\u001b[0m \u001b[0mplt\u001b[0m\u001b[0;34m.\u001b[0m\u001b[0mplot\u001b[0m\u001b[0;34m(\u001b[0m\u001b[0morder_vec\u001b[0m\u001b[0;34m,\u001b[0m\u001b[0mvalue\u001b[0m\u001b[0;34m,\u001b[0m\u001b[0mlabel\u001b[0m\u001b[0;34m=\u001b[0m\u001b[0;34m'log marginal likelihood '\u001b[0m\u001b[0;34m)\u001b[0m\u001b[0;34m\u001b[0m\u001b[0m\n\u001b[0;32m---> 40\u001b[0;31m \u001b[0mplt\u001b[0m\u001b[0;34m.\u001b[0m\u001b[0mxticks\u001b[0m\u001b[0;34m(\u001b[0m\u001b[0morder\u001b[0m\u001b[0;34m)\u001b[0m\u001b[0;34m\u001b[0m\u001b[0m\n\u001b[0m\u001b[1;32m     41\u001b[0m \u001b[0mplt\u001b[0m\u001b[0;34m.\u001b[0m\u001b[0mxlabel\u001b[0m\u001b[0;34m(\u001b[0m\u001b[0;34m'order'\u001b[0m\u001b[0;34m)\u001b[0m\u001b[0;34m\u001b[0m\u001b[0m\n\u001b[1;32m     42\u001b[0m \u001b[0mplt\u001b[0m\u001b[0;34m.\u001b[0m\u001b[0mylabel\u001b[0m\u001b[0;34m(\u001b[0m\u001b[0;34m'log marginal likelihood value'\u001b[0m\u001b[0;34m)\u001b[0m\u001b[0;34m\u001b[0m\u001b[0m\n",
      "\u001b[0;32m/usr/local/Cellar/anaconda2/lib/python2.7/site-packages/matplotlib/pyplot.pyc\u001b[0m in \u001b[0;36mxticks\u001b[0;34m(*args, **kwargs)\u001b[0m\n\u001b[1;32m   1634\u001b[0m         \u001b[0mlabels\u001b[0m \u001b[0;34m=\u001b[0m \u001b[0max\u001b[0m\u001b[0;34m.\u001b[0m\u001b[0mget_xticklabels\u001b[0m\u001b[0;34m(\u001b[0m\u001b[0;34m)\u001b[0m\u001b[0;34m\u001b[0m\u001b[0m\n\u001b[1;32m   1635\u001b[0m     \u001b[0;32melif\u001b[0m \u001b[0mlen\u001b[0m\u001b[0;34m(\u001b[0m\u001b[0margs\u001b[0m\u001b[0;34m)\u001b[0m\u001b[0;34m==\u001b[0m\u001b[0;36m1\u001b[0m\u001b[0;34m:\u001b[0m\u001b[0;34m\u001b[0m\u001b[0m\n\u001b[0;32m-> 1636\u001b[0;31m         \u001b[0mlocs\u001b[0m \u001b[0;34m=\u001b[0m \u001b[0max\u001b[0m\u001b[0;34m.\u001b[0m\u001b[0mset_xticks\u001b[0m\u001b[0;34m(\u001b[0m\u001b[0margs\u001b[0m\u001b[0;34m[\u001b[0m\u001b[0;36m0\u001b[0m\u001b[0;34m]\u001b[0m\u001b[0;34m)\u001b[0m\u001b[0;34m\u001b[0m\u001b[0m\n\u001b[0m\u001b[1;32m   1637\u001b[0m         \u001b[0mlabels\u001b[0m \u001b[0;34m=\u001b[0m \u001b[0max\u001b[0m\u001b[0;34m.\u001b[0m\u001b[0mget_xticklabels\u001b[0m\u001b[0;34m(\u001b[0m\u001b[0;34m)\u001b[0m\u001b[0;34m\u001b[0m\u001b[0m\n\u001b[1;32m   1638\u001b[0m     \u001b[0;32melif\u001b[0m \u001b[0mlen\u001b[0m\u001b[0;34m(\u001b[0m\u001b[0margs\u001b[0m\u001b[0;34m)\u001b[0m\u001b[0;34m==\u001b[0m\u001b[0;36m2\u001b[0m\u001b[0;34m:\u001b[0m\u001b[0;34m\u001b[0m\u001b[0m\n",
      "\u001b[0;32m/usr/local/Cellar/anaconda2/lib/python2.7/site-packages/matplotlib/axes/_base.pyc\u001b[0m in \u001b[0;36mset_xticks\u001b[0;34m(self, ticks, minor)\u001b[0m\n\u001b[1;32m   3045\u001b[0m             \u001b[0mDefault\u001b[0m \u001b[0;32mis\u001b[0m \u001b[0;34m`\u001b[0m\u001b[0;34m`\u001b[0m\u001b[0mFalse\u001b[0m\u001b[0;34m`\u001b[0m\u001b[0;34m`\u001b[0m\u001b[0;34m.\u001b[0m\u001b[0;34m\u001b[0m\u001b[0m\n\u001b[1;32m   3046\u001b[0m         \"\"\"\n\u001b[0;32m-> 3047\u001b[0;31m         \u001b[0mret\u001b[0m \u001b[0;34m=\u001b[0m \u001b[0mself\u001b[0m\u001b[0;34m.\u001b[0m\u001b[0mxaxis\u001b[0m\u001b[0;34m.\u001b[0m\u001b[0mset_ticks\u001b[0m\u001b[0;34m(\u001b[0m\u001b[0mticks\u001b[0m\u001b[0;34m,\u001b[0m \u001b[0mminor\u001b[0m\u001b[0;34m=\u001b[0m\u001b[0mminor\u001b[0m\u001b[0;34m)\u001b[0m\u001b[0;34m\u001b[0m\u001b[0m\n\u001b[0m\u001b[1;32m   3048\u001b[0m         \u001b[0mself\u001b[0m\u001b[0;34m.\u001b[0m\u001b[0mstale\u001b[0m \u001b[0;34m=\u001b[0m \u001b[0mTrue\u001b[0m\u001b[0;34m\u001b[0m\u001b[0m\n\u001b[1;32m   3049\u001b[0m         \u001b[0;32mreturn\u001b[0m \u001b[0mret\u001b[0m\u001b[0;34m\u001b[0m\u001b[0m\n",
      "\u001b[0;32m/usr/local/Cellar/anaconda2/lib/python2.7/site-packages/matplotlib/axis.pyc\u001b[0m in \u001b[0;36mset_ticks\u001b[0;34m(self, ticks, minor)\u001b[0m\n\u001b[1;32m   1642\u001b[0m         \u001b[0;31m# XXX if the user changes units, the information will be lost here\u001b[0m\u001b[0;34m\u001b[0m\u001b[0;34m\u001b[0m\u001b[0m\n\u001b[1;32m   1643\u001b[0m         \u001b[0mticks\u001b[0m \u001b[0;34m=\u001b[0m \u001b[0mself\u001b[0m\u001b[0;34m.\u001b[0m\u001b[0mconvert_units\u001b[0m\u001b[0;34m(\u001b[0m\u001b[0mticks\u001b[0m\u001b[0;34m)\u001b[0m\u001b[0;34m\u001b[0m\u001b[0m\n\u001b[0;32m-> 1644\u001b[0;31m         \u001b[0;32mif\u001b[0m \u001b[0mlen\u001b[0m\u001b[0;34m(\u001b[0m\u001b[0mticks\u001b[0m\u001b[0;34m)\u001b[0m \u001b[0;34m>\u001b[0m \u001b[0;36m1\u001b[0m\u001b[0;34m:\u001b[0m\u001b[0;34m\u001b[0m\u001b[0m\n\u001b[0m\u001b[1;32m   1645\u001b[0m             \u001b[0mxleft\u001b[0m\u001b[0;34m,\u001b[0m \u001b[0mxright\u001b[0m \u001b[0;34m=\u001b[0m \u001b[0mself\u001b[0m\u001b[0;34m.\u001b[0m\u001b[0mget_view_interval\u001b[0m\u001b[0;34m(\u001b[0m\u001b[0;34m)\u001b[0m\u001b[0;34m\u001b[0m\u001b[0m\n\u001b[1;32m   1646\u001b[0m             \u001b[0;32mif\u001b[0m \u001b[0mxright\u001b[0m \u001b[0;34m>\u001b[0m \u001b[0mxleft\u001b[0m\u001b[0;34m:\u001b[0m\u001b[0;34m\u001b[0m\u001b[0m\n",
      "\u001b[0;31mTypeError\u001b[0m: object of type 'int' has no len()"
     ]
    },
    {
     "data": {
      "image/png": "[encoded data removed]",
      "text/plain": [
       "<matplotlib.figure.Figure at 0x10fae4450>"
      ]
     },
     "metadata": {},
     "output_type": "display_data"
    }
   ],
   "source": [
    "\n",
    "#================================================================1c)\n",
    "\n",
    "def designM_trigo(x,order):\n",
    "    phi = np.ones([len(x),1])\n",
    "    for i in range(1,order+1):\n",
    "        psin = np.sin(2*np.pi*i*x)\n",
    "        pcos = np.cos(2*np.pi*i*x)\n",
    "        phi = np.hstack((phi, psin))\n",
    "        phi = np.hstack((phi, pcos))\n",
    "    return phi\n",
    "value = []\n",
    "\n",
    "#compute the max log likelihood for order 0 to 11 with trigo basis by gradient descent\n",
    "for order in range(12):\n",
    "    phi_trigo = designM_trigo(x,order)\n",
    "    x0 = np.array([[0.34], [0.37]])\n",
    "    gamma = 0.000024\n",
    "\n",
    "    x1 = x0 + grad_lml(x0[0][0], x0[1][0], phi_trigo, y) * gamma\n",
    "    #x_vec = [x0[0][0], x1[0][0]]\n",
    "    #y_vec = [x0[1][0], x1[1][0]]\n",
    "    z_vec = [lml(x0[0][0], x0[1][0], phi_trigo, y), lml(x1[0][0], x1[1][0], phi_trigo, y)]\n",
    "    x_current = x1\n",
    "    t = 1\n",
    "    i = 2\n",
    "    while t<5000*(order+10):\n",
    "        x_next = x_current + gamma * grad_lml(x_current[0][0], x_current[1][0], phi_trigo, y)\n",
    "        z_current = lml(x_current[0][0], x_current[1][0], phi_trigo, y)\n",
    "        #x_vec.append(x_next[0][0])\n",
    "        #y_vec.append(x_next[1][0])\n",
    "        x_current = x_next\n",
    "        t += 1\n",
    "        z_vec.append(z_current)\n",
    "    value.append(z_vec[-1])\n",
    "    print(len(z_vec))\n",
    "order_vec = np.linspace(0,11,12)\n",
    "\n",
    "plt.plot(order_vec,value,label='log marginal likelihood ')\n",
    "plt.xticks(order)\n",
    "plt.xlabel('order')\n",
    "plt.ylabel('log marginal likelihood value')\n",
    "#refer the result from cw2 for the cross validation graph\n"
   ]
  },
  {
   "cell_type": "code",
   "execution_count": null,
   "metadata": {},
   "outputs": [],
   "source": []
  }
 ],
 "metadata": {
  "kernelspec": {
   "display_name": "Python 2",
   "language": "python",
   "name": "python2"
  },
  "language_info": {
   "codemirror_mode": {
    "name": "ipython",
    "version": 2
   },
   "file_extension": ".py",
   "mimetype": "text/x-python",
   "name": "python",
   "nbconvert_exporter": "python",
   "pygments_lexer": "ipython2",
   "version": "2.7.14"
  }
 },
 "nbformat": 4,
 "nbformat_minor": 2
}
